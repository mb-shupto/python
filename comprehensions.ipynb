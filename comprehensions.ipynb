{
 "cells": [
  {
   "cell_type": "code",
   "execution_count": 2,
   "metadata": {},
   "outputs": [
    {
     "name": "stdout",
     "output_type": "stream",
     "text": [
      "{'April': 600}\n"
     ]
    }
   ],
   "source": [
    "sales = {\"January\": 1000, \"February\": 800, \"March\": 1200, \"April\": 600}\n",
    "\n",
    "high_sales = {month: amount for month, amount in sales.items()\n",
    "              if amount < 800}\n",
    "\n",
    "print(high_sales)\n"
   ]
  },
  {
   "cell_type": "code",
   "execution_count": 2,
   "metadata": {},
   "outputs": [
    {
     "name": "stdout",
     "output_type": "stream",
     "text": [
      "[('red', 'S'), ('red', 'M'), ('red', 'L'), ('blue', 'S'), ('blue', 'M'), ('blue', 'L')]\n"
     ]
    }
   ],
   "source": [
    "colors = ['red', 'blue']\n",
    "sizes = ['S', 'M', 'L']\n",
    "combinations = [(color, size)\n",
    "                for color in colors\n",
    "                for size in sizes]\n",
    "print(combinations)"
   ]
  },
  {
   "cell_type": "code",
   "execution_count": 3,
   "metadata": {},
   "outputs": [
    {
     "name": "stdout",
     "output_type": "stream",
     "text": [
      "[('S', 'red'), ('S', 'blue'), ('M', 'red'), ('M', 'blue'), ('L', 'red'), ('L', 'blue')]\n"
     ]
    }
   ],
   "source": [
    "colors = ['red', 'blue']\n",
    "sizes = ['S', 'M', 'L']\n",
    "combinations = [(size, color)                \n",
    "                for size in sizes\n",
    "                for color in colors]\n",
    "print(combinations)"
   ]
  }
 ],
 "metadata": {
  "kernelspec": {
   "display_name": "Python 3",
   "language": "python",
   "name": "python3"
  },
  "language_info": {
   "codemirror_mode": {
    "name": "ipython",
    "version": 3
   },
   "file_extension": ".py",
   "mimetype": "text/x-python",
   "name": "python",
   "nbconvert_exporter": "python",
   "pygments_lexer": "ipython3",
   "version": "3.13.1"
  }
 },
 "nbformat": 4,
 "nbformat_minor": 2
}
