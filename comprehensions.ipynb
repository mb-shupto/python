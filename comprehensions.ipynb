{
 "cells": [
  {
   "cell_type": "code",
   "execution_count": null,
   "metadata": {},
   "outputs": [],
   "source": [
    "sales = {\"January\": 1000, \"February\": 800, \"March\": 1200, \"April\": 600}\n",
    "\n",
    "high_sales = {month: amount for month, amount in sales.items()\n",
    "              if amount > 800}\n",
    "\n",
    "print(high_sales)\n"
   ]
  }
 ],
 "metadata": {
  "language_info": {
   "name": "python"
  }
 },
 "nbformat": 4,
 "nbformat_minor": 2
}
