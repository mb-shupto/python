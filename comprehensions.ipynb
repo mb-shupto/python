{
 "cells": [
  {
   "cell_type": "code",
   "execution_count": 2,
   "metadata": {},
   "outputs": [
    {
     "name": "stdout",
     "output_type": "stream",
     "text": [
      "{'April': 600}\n"
     ]
    }
   ],
   "source": [
    "sales = {\"January\": 1000, \"February\": 800, \"March\": 1200, \"April\": 600}\n",
    "\n",
    "high_sales = {month: amount for month, amount in sales.items()\n",
    "              if amount < 800}\n",
    "\n",
    "print(high_sales)\n"
   ]
  }
 ],
 "metadata": {
  "kernelspec": {
   "display_name": "Python 3",
   "language": "python",
   "name": "python3"
  },
  "language_info": {
   "codemirror_mode": {
    "name": "ipython",
    "version": 3
   },
   "file_extension": ".py",
   "mimetype": "text/x-python",
   "name": "python",
   "nbconvert_exporter": "python",
   "pygments_lexer": "ipython3",
   "version": "3.13.1"
  }
 },
 "nbformat": 4,
 "nbformat_minor": 2
}
